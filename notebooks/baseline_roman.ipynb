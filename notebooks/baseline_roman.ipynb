{
 "cells": [
  {
   "cell_type": "code",
   "execution_count": 175,
   "metadata": {},
   "outputs": [],
   "source": [
    "import json\n",
    "import re\n",
    "\n",
    "import collections\n",
    "from collections import Counter\n",
    "\n",
    "import scipy\n",
    "from scipy import sparse\n",
    "from scipy.sparse import linalg\n",
    "\n",
    "import numpy as np"
   ]
  },
  {
   "cell_type": "code",
   "execution_count": 230,
   "metadata": {},
   "outputs": [
    {
     "name": "stdout",
     "output_type": "stream",
     "text": [
      "The autoreload extension is already loaded. To reload it, use:\n",
      "  %reload_ext autoreload\n"
     ]
    }
   ],
   "source": [
    "%load_ext autoreload\n",
    "%autoreload 2\n",
    "\n",
    "from utils import clear_sentences, create_vocabulary, create_matrix_D, create_matrix_B, MF, grad_MF\n",
    "from utils import Word2VecController, Doc2VecController"
   ]
  },
  {
   "cell_type": "markdown",
   "metadata": {},
   "source": [
    "# Preparation"
   ]
  },
  {
   "cell_type": "code",
   "execution_count": 72,
   "metadata": {},
   "outputs": [],
   "source": [
    "path_data_prepaired = '../dataset/dataset.json'"
   ]
  },
  {
   "cell_type": "code",
   "execution_count": 73,
   "metadata": {},
   "outputs": [],
   "source": [
    "data = None\n",
    "with open(path_data_prepaired) as file_data:\n",
    "    data = json.load(file_data)"
   ]
  },
  {
   "cell_type": "code",
   "execution_count": 74,
   "metadata": {},
   "outputs": [
    {
     "name": "stdout",
     "output_type": "stream",
     "text": [
      "CPU times: user 3.25 s, sys: 267 ms, total: 3.52 s\n",
      "Wall time: 3.52 s\n"
     ]
    }
   ],
   "source": [
    "%time sentences = clear_sentences(data)"
   ]
  },
  {
   "cell_type": "markdown",
   "metadata": {},
   "source": [
    "# Pipeline"
   ]
  },
  {
   "cell_type": "markdown",
   "metadata": {},
   "source": [
    "## Utils for creating bag of words models and corpus matricies"
   ]
  },
  {
   "cell_type": "code",
   "execution_count": 158,
   "metadata": {},
   "outputs": [
    {
     "name": "stdout",
     "output_type": "stream",
     "text": [
      "CPU times: user 2.17 s, sys: 378 µs, total: 2.17 s\n",
      "Wall time: 2.17 s\n"
     ]
    }
   ],
   "source": [
    "%time vocabulary = create_vocabulary(sentences, r=200)"
   ]
  },
  {
   "cell_type": "code",
   "execution_count": 159,
   "metadata": {},
   "outputs": [
    {
     "name": "stdout",
     "output_type": "stream",
     "text": [
      "CPU times: user 49.2 s, sys: 36.7 ms, total: 49.3 s\n",
      "Wall time: 49.3 s\n"
     ]
    }
   ],
   "source": [
    "%time corpus_matrix = create_matrix_D(sentences, vocabulary)"
   ]
  },
  {
   "cell_type": "code",
   "execution_count": 160,
   "metadata": {},
   "outputs": [
    {
     "name": "stdout",
     "output_type": "stream",
     "text": [
      "CPU times: user 87.7 ms, sys: 80 ms, total: 168 ms\n",
      "Wall time: 167 ms\n"
     ]
    }
   ],
   "source": [
    "%time B = create_matrix_B(corpus_matrix, k=3)"
   ]
  },
  {
   "cell_type": "markdown",
   "metadata": {},
   "source": [
    "<hr>\n",
    "\n",
    "# Riemannian Optimization\n",
    "\n",
    "<hr>"
   ]
  },
  {
   "cell_type": "markdown",
   "metadata": {},
   "source": [
    "vocabulary, corpus_matrix - we have before we start optimization problem"
   ]
  },
  {
   "cell_type": "code",
   "execution_count": 234,
   "metadata": {},
   "outputs": [],
   "source": [
    "# Riemannian Optimization for SGNS\n",
    "def riemannian_optimization(C, W, corpus_matrix=None, B=None, step=0.001, k=3, max_iter=50, alpha=0.5):\n",
    "    \n",
    "    X, mean = MF(corpus_matrix, B, C.T @ W)\n",
    "    \n",
    "    losses = []\n",
    "    \n",
    "    U, S, V = np.linalg.svd(X)\n",
    "    \n",
    "    for i in range(1, max_iter):\n",
    "        \n",
    "        grad_F = grad_MF(X, corpus_matrix, B)\n",
    "        Y = X + step * grad_F\n",
    "        \n",
    "        _U, _S = np.linalg.qr(Y @ V)\n",
    "        _V, _S = np.linalg.qr(Y.T @ _U)\n",
    "        \n",
    "        X = _U @ _S @ _V\n",
    "        \n",
    "        _, mean = MF(corpus_matrix, B, X)\n",
    "        \n",
    "        losses.append(mean)\n",
    "        \n",
    "        print('Step', i, ' residual', mean)\n",
    "        \n",
    "        U = _U\n",
    "        V = _V\n",
    "        \n",
    "    U, S, V = np.linalg.svd(X)\n",
    "    \n",
    "    return U @ np.diag(np.power(S, alpha)), losses"
   ]
  },
  {
   "cell_type": "code",
   "execution_count": 235,
   "metadata": {},
   "outputs": [],
   "source": [
    "from copy import deepcopy"
   ]
  },
  {
   "cell_type": "code",
   "execution_count": 236,
   "metadata": {},
   "outputs": [
    {
     "name": "stdout",
     "output_type": "stream",
     "text": [
      "Step 1  residual 124.69241073088622\n",
      "Step 2  residual 118.05731460690933\n",
      "Step 3  residual 106.4091921697049\n",
      "Step 4  residual 114.25591631728804\n",
      "Step 5  residual 111.56414101300761\n",
      "Step 6  residual 102.71369487854061\n",
      "Step 7  residual 117.50556358787956\n",
      "Step 8  residual 106.99661098665304\n",
      "Step 9  residual 121.23981738257778\n",
      "Step 10  residual 107.83479418683791\n",
      "Step 11  residual 105.48918624393305\n",
      "Step 12  residual 109.37157602822764\n",
      "Step 13  residual 120.1374566711825\n",
      "Step 14  residual 123.19413584554947\n"
     ]
    }
   ],
   "source": [
    "C = np.random.random(size=(200, corpus_matrix.shape[0]))\n",
    "W = np.random.random(size=(200, corpus_matrix.shape[1]))\n",
    "E, loss = riemannian_optimization(C, W, B=B[:, :], corpus_matrix=corpus_matrix[:, :], step=1e-5, max_iter=15)"
   ]
  },
  {
   "cell_type": "code",
   "execution_count": 212,
   "metadata": {},
   "outputs": [],
   "source": [
    "import matplotlib.pyplot as plt"
   ]
  },
  {
   "cell_type": "code",
   "execution_count": 237,
   "metadata": {},
   "outputs": [
    {
     "data": {
      "text/plain": [
       "[<matplotlib.lines.Line2D at 0x7f34d26304e0>]"
      ]
     },
     "execution_count": 237,
     "metadata": {},
     "output_type": "execute_result"
    },
    {
     "data": {
      "image/png": "[encoded data removed]",
      "text/plain": [
       "<Figure size 432x288 with 1 Axes>"
      ]
     },
     "metadata": {
      "needs_background": "light"
     },
     "output_type": "display_data"
    }
   ],
   "source": [
    "plt.plot(loss)"
   ]
  },
  {
   "cell_type": "markdown",
   "metadata": {},
   "source": [
    "## Class for converting Sentences with Word2Vec class into vectors for representing sentences in vector form"
   ]
  },
  {
   "cell_type": "code",
   "execution_count": null,
   "metadata": {},
   "outputs": [],
   "source": []
  },
  {
   "cell_type": "markdown",
   "metadata": {},
   "source": [
    "# Comparison models of embeddings"
   ]
  },
  {
   "cell_type": "markdown",
   "metadata": {},
   "source": [
    "## There are 3 base models, which included into our experiments for classifient feedbacks grades"
   ]
  },
  {
   "cell_type": "code",
   "execution_count": 54,
   "metadata": {},
   "outputs": [],
   "source": [
    "import sklearn\n",
    "from sklearn.linear_model import LogisticRegressionCV\n",
    "from sklearn.svm import LinearSVC\n",
    "from sklearn.ensemble import RandomForestClassifier"
   ]
  }
 ],
 "metadata": {
  "kernelspec": {
   "display_name": "Python 3",
   "language": "python",
   "name": "python3"
  },
  "language_info": {
   "codemirror_mode": {
    "name": "ipython",
    "version": 3
   },
   "file_extension": ".py",
   "mimetype": "text/x-python",
   "name": "python",
   "nbconvert_exporter": "python",
   "pygments_lexer": "ipython3",
   "version": "3.6.6"
  }
 },
 "nbformat": 4,
 "nbformat_minor": 2
}
