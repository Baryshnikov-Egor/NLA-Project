{
 "cells": [
  {
   "cell_type": "code",
   "execution_count": 37,
   "metadata": {},
   "outputs": [],
   "source": [
    "import gzip\n",
    "import json\n",
    "import pandas as pd"
   ]
  },
  {
   "cell_type": "code",
   "execution_count": 26,
   "metadata": {},
   "outputs": [],
   "source": [
    "path = '../data/reviews_Cell_Phones_and_Accessories_5.json.gz'"
   ]
  },
  {
   "cell_type": "code",
   "execution_count": 27,
   "metadata": {},
   "outputs": [],
   "source": [
    "def parse(path):\n",
    "    g = gzip.open(path, 'rb')\n",
    "    for l in g:\n",
    "        yield eval(l)\n",
    "\n",
    "def getDF(path):\n",
    "    i = 0\n",
    "    df = {}\n",
    "    for d in parse(path):\n",
    "        df[i] = d\n",
    "        i += 1\n",
    "    return pd.DataFrame.from_dict(df, orient='index')\n",
    "\n",
    "df = getDF(path)"
   ]
  },
  {
   "cell_type": "code",
   "execution_count": 32,
   "metadata": {},
   "outputs": [
    {
     "name": "stdout",
     "output_type": "stream",
     "text": [
      "<class 'pandas.core.frame.DataFrame'>\n",
      "Int64Index: 194439 entries, 0 to 194438\n",
      "Data columns (total 9 columns):\n",
      "reviewerID        194439 non-null object\n",
      "asin              194439 non-null object\n",
      "reviewerName      190920 non-null object\n",
      "helpful           194439 non-null object\n",
      "reviewText        194439 non-null object\n",
      "overall           194439 non-null float64\n",
      "summary           194439 non-null object\n",
      "unixReviewTime    194439 non-null int64\n",
      "reviewTime        194439 non-null object\n",
      "dtypes: float64(1), int64(1), object(7)\n",
      "memory usage: 19.8+ MB\n"
     ]
    }
   ],
   "source": [
    "df.info()"
   ]
  },
  {
   "cell_type": "code",
   "execution_count": 48,
   "metadata": {},
   "outputs": [
    {
     "data": {
      "text/plain": [
       "5.0    108664\n",
       "4.0     39993\n",
       "3.0     21439\n",
       "1.0     13279\n",
       "2.0     11064\n",
       "Name: overall, dtype: int64"
      ]
     },
     "execution_count": 48,
     "metadata": {},
     "output_type": "execute_result"
    }
   ],
   "source": [
    "df.overall.value_counts()"
   ]
  },
  {
   "cell_type": "code",
   "execution_count": 38,
   "metadata": {},
   "outputs": [],
   "source": [
    "# strict json\n",
    "def parse(path):\n",
    "    g = gzip.open(path, 'r')\n",
    "    for l in g:\n",
    "        yield json.dumps(eval(l))\n",
    "\n",
    "f = open(\"dataset.json\", 'w')\n",
    "for l in parse(path):\n",
    "    f.write(l + '\\n')"
   ]
  },
  {
   "cell_type": "code",
   "execution_count": 43,
   "metadata": {},
   "outputs": [],
   "source": [
    "json1_file = open(\"dataset.json\")\n",
    "json1_str = json1_file.read()\n",
    "#json1_data = json.loads(json1_str)"
   ]
  },
  {
   "cell_type": "code",
   "execution_count": 46,
   "metadata": {},
   "outputs": [
    {
     "data": {
      "text/plain": [
       "'{\"reviewerID\": \"A30TL5EWN6DFXT\", \"asin\": \"120401325X\", \"reviewerName\": \"christina\", \"helpful\": [0, 0], \"reviewText\": \"They look good and stick good! I just don\\'t like the rounded shape because I was always bumping it and Siri kept popping up and it was irritating. I just won\\'t buy a product like this again\", \"overall\": 4.0, \"summary\": \"Looks Good\", \"unixReviewTime\": 1400630400, \"reviewTime\": \"05 21, 2014\"}'"
      ]
     },
     "execution_count": 46,
     "metadata": {},
     "output_type": "execute_result"
    }
   ],
   "source": [
    "json1_str.split(sep='\\n')[0]"
   ]
  },
  {
   "cell_type": "markdown",
   "metadata": {},
   "source": [
    "Links\n",
    "\n",
    "1) https://www.kaggle.com/varun08/sentiment-analysis-using-word2vec\n",
    "\n",
    "2) http://www.aclweb.org/anthology/C14-1008\n",
    "\n",
    "3) datasets are here http://jmcauley.ucsd.edu/data/amazon/\n"
   ]
  },
  {
   "cell_type": "code",
   "execution_count": null,
   "metadata": {},
   "outputs": [],
   "source": []
  }
 ],
 "metadata": {
  "kernelspec": {
   "display_name": "Python 3",
   "language": "python",
   "name": "python3"
  },
  "language_info": {
   "codemirror_mode": {
    "name": "ipython",
    "version": 3
   },
   "file_extension": ".py",
   "mimetype": "text/x-python",
   "name": "python",
   "nbconvert_exporter": "python",
   "pygments_lexer": "ipython3",
   "version": "3.7.0"
  }
 },
 "nbformat": 4,
 "nbformat_minor": 2
}
